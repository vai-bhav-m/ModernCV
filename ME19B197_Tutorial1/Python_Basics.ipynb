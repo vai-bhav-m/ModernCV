{
  "nbformat": 4,
  "nbformat_minor": 0,
  "metadata": {
    "colab": {
      "provenance": []
    },
    "kernelspec": {
      "name": "python3",
      "display_name": "Python 3"
    },
    "language_info": {
      "name": "python"
    }
  },
  "cells": [
    {
      "cell_type": "markdown",
      "metadata": {
        "id": "view-in-github"
      },
      "source": [
        "<a href=\"https://colab.research.google.com/github/Rohith-Rongali/EE5179-2023/blob/main/Tutorials/Tutorial-1/Python_Basics.ipynb\" target=\"_parent\"><img src=\"https://colab.research.google.com/assets/colab-badge.svg\" alt=\"Open In Colab\"/></a>"
      ]
    },
    {
      "cell_type": "code",
      "metadata": {
        "id": "alrXoCflGKM8"
      },
      "source": [
        "import matplotlib.pylab as plt\n",
        "import numpy as np"
      ],
      "execution_count": 33,
      "outputs": []
    },
    {
      "cell_type": "markdown",
      "metadata": {
        "id": "ujfIAOPMb11i"
      },
      "source": [
        "<h1> Python Basics </h1>"
      ]
    },
    {
      "cell_type": "markdown",
      "source": [
        "<h1> 1. Data Structures </h1>"
      ],
      "metadata": {
        "id": "oqSFn0gFJDfA"
      }
    },
    {
      "cell_type": "markdown",
      "source": [
        "<h2> Lists </h2>\n",
        "A list in Python is a sequence of anything!\n"
      ],
      "metadata": {
        "id": "_GRuTTpS-wz1"
      }
    },
    {
      "cell_type": "code",
      "source": [
        "my_list=[1,'a','hello',[1,1,\"hello\"],(1,3,5),{1,2,3}]\n",
        "\n",
        "#accessing the elements of a list\n",
        "print(my_list[1])\n",
        "print(my_list[3][0])\n",
        "print(my_list[3][2][0])\n",
        "print(my_list[-1])\n",
        "print(my_list[-2])"
      ],
      "metadata": {
        "id": "E0atEv9U_HyI",
        "colab": {
          "base_uri": "https://localhost:8080/"
        },
        "outputId": "25effe92-0231-4838-8d44-6c7b317f3100"
      },
      "execution_count": 34,
      "outputs": [
        {
          "output_type": "stream",
          "name": "stdout",
          "text": [
            "a\n",
            "1\n",
            "h\n",
            "{1, 2, 3}\n",
            "(1, 3, 5)\n"
          ]
        }
      ]
    },
    {
      "cell_type": "markdown",
      "source": [
        "List Slicing"
      ],
      "metadata": {
        "id": "WkCqNO9q_3QJ"
      }
    },
    {
      "cell_type": "code",
      "source": [
        "print(my_list[:2])\n",
        "print(my_list[2:])\n",
        "print(my_list[2:4])\n",
        "print(my_list[-4:-2])"
      ],
      "metadata": {
        "id": "Y09faxfq_6hR",
        "colab": {
          "base_uri": "https://localhost:8080/"
        },
        "outputId": "aebe4121-c176-461d-b4fd-3e789d934f51"
      },
      "execution_count": 35,
      "outputs": [
        {
          "output_type": "stream",
          "name": "stdout",
          "text": [
            "[1, 'a']\n",
            "['hello', [1, 1, 'hello'], (1, 3, 5), {1, 2, 3}]\n",
            "['hello', [1, 1, 'hello']]\n",
            "['hello', [1, 1, 'hello']]\n"
          ]
        }
      ]
    },
    {
      "cell_type": "markdown",
      "source": [
        "Lists are mutable; you can insert and delete elements"
      ],
      "metadata": {
        "id": "S3GeTpG4_oWM"
      }
    },
    {
      "cell_type": "code",
      "source": [
        "my_list[0]=2\n",
        "print(my_list)\n",
        "\n",
        "my_list=my_list+[2]\n",
        "print(my_list)\n",
        "\n",
        "my_list=my_list+[3,4]\n",
        "print(my_list)\n",
        "\n",
        "del my_list[6]\n",
        "print(my_list)\n",
        "\n",
        "del my_list[6:8]\n",
        "print(my_list)"
      ],
      "metadata": {
        "id": "6cVnxlH3AHC7",
        "colab": {
          "base_uri": "https://localhost:8080/"
        },
        "outputId": "e103e249-56da-4e5f-8ce9-79797c69c57f"
      },
      "execution_count": 36,
      "outputs": [
        {
          "output_type": "stream",
          "name": "stdout",
          "text": [
            "[2, 'a', 'hello', [1, 1, 'hello'], (1, 3, 5), {1, 2, 3}]\n",
            "[2, 'a', 'hello', [1, 1, 'hello'], (1, 3, 5), {1, 2, 3}, 2]\n",
            "[2, 'a', 'hello', [1, 1, 'hello'], (1, 3, 5), {1, 2, 3}, 2, 3, 4]\n",
            "[2, 'a', 'hello', [1, 1, 'hello'], (1, 3, 5), {1, 2, 3}, 3, 4]\n",
            "[2, 'a', 'hello', [1, 1, 'hello'], (1, 3, 5), {1, 2, 3}]\n"
          ]
        }
      ]
    },
    {
      "cell_type": "markdown",
      "source": [
        "List Methods"
      ],
      "metadata": {
        "id": "5Adct5HVAfTV"
      }
    },
    {
      "cell_type": "code",
      "source": [
        "my_list.append(\"append\") #to add only a single element at the end of the list\n",
        "print(my_list)"
      ],
      "metadata": {
        "id": "YkVyl9cAA9OJ",
        "colab": {
          "base_uri": "https://localhost:8080/"
        },
        "outputId": "332ae172-7fe4-4485-fa47-965f8c0edfb6"
      },
      "execution_count": 37,
      "outputs": [
        {
          "output_type": "stream",
          "name": "stdout",
          "text": [
            "[2, 'a', 'hello', [1, 1, 'hello'], (1, 3, 5), {1, 2, 3}, 'append']\n"
          ]
        }
      ]
    },
    {
      "cell_type": "code",
      "source": [
        "my_list.extend([5,6,7])   #to add several items to the list\n",
        "print(my_list)"
      ],
      "metadata": {
        "id": "TeO3MZ0eA_QF",
        "colab": {
          "base_uri": "https://localhost:8080/"
        },
        "outputId": "b45c07c3-bede-4f15-a515-e5453b8d9411"
      },
      "execution_count": 38,
      "outputs": [
        {
          "output_type": "stream",
          "name": "stdout",
          "text": [
            "[2, 'a', 'hello', [1, 1, 'hello'], (1, 3, 5), {1, 2, 3}, 'append', 5, 6, 7]\n"
          ]
        }
      ]
    },
    {
      "cell_type": "code",
      "source": [
        "print(my_list.pop(2))\t#the item at the given index is removed\n",
        "print(my_list)\t\t#the return value of this function is the indicated item\n",
        "print(my_list.pop())\t#if no argument is passed the last item is removed and returned\n",
        "print(my_list)"
      ],
      "metadata": {
        "id": "1rfsPdp5BLDO",
        "colab": {
          "base_uri": "https://localhost:8080/"
        },
        "outputId": "76d7b2e5-ae84-4908-d826-cc4e80f128d9"
      },
      "execution_count": 39,
      "outputs": [
        {
          "output_type": "stream",
          "name": "stdout",
          "text": [
            "hello\n",
            "[2, 'a', [1, 1, 'hello'], (1, 3, 5), {1, 2, 3}, 'append', 5, 6, 7]\n",
            "7\n",
            "[2, 'a', [1, 1, 'hello'], (1, 3, 5), {1, 2, 3}, 'append', 5, 6]\n"
          ]
        }
      ]
    },
    {
      "cell_type": "markdown",
      "source": [
        "There are many such methods that you can perform on lists..."
      ],
      "metadata": {
        "id": "io6fCPaOBU2p"
      }
    },
    {
      "cell_type": "code",
      "source": [
        "numlist=[12,2142,1,101,105]\n",
        "numlist.sort()\n",
        "print(numlist)\n",
        "numlist.sort(reverse=True)\n",
        "print(numlist)"
      ],
      "metadata": {
        "id": "f8GwAP9hBrhv",
        "colab": {
          "base_uri": "https://localhost:8080/"
        },
        "outputId": "cb346677-b211-48d1-fff2-fedb50671bd5"
      },
      "execution_count": 40,
      "outputs": [
        {
          "output_type": "stream",
          "name": "stdout",
          "text": [
            "[1, 12, 101, 105, 2142]\n",
            "[2142, 105, 101, 12, 1]\n"
          ]
        }
      ]
    },
    {
      "cell_type": "markdown",
      "source": [
        "There is another in-built fn \"sorted\" which takes the list as one of the arguments and it returns the sorted list the other two arguments are similar to that of the sort()"
      ],
      "metadata": {
        "id": "GwEOrmpABtgf"
      }
    },
    {
      "cell_type": "code",
      "source": [
        "print(sorted(numlist))"
      ],
      "metadata": {
        "id": "nyWUtlOuBvuR",
        "colab": {
          "base_uri": "https://localhost:8080/"
        },
        "outputId": "51ebdc68-3ba2-4421-e695-39dd0662f2f0"
      },
      "execution_count": 41,
      "outputs": [
        {
          "output_type": "stream",
          "name": "stdout",
          "text": [
            "[1, 12, 101, 105, 2142]\n"
          ]
        }
      ]
    },
    {
      "cell_type": "markdown",
      "source": [
        "ALIASING LISTS"
      ],
      "metadata": {
        "id": "9N2wYJBhB_98"
      }
    },
    {
      "cell_type": "code",
      "source": [
        "A=[\"cocoa\",1,2]    #A is a variable which refers to the list\n",
        "B=A\t\t   #B is yet another variable which refers to the same list\n",
        "\n",
        "print(\"A is \",A)\n",
        "print(\"B is \",B)\n"
      ],
      "metadata": {
        "id": "DDxVgdhaDIkQ",
        "colab": {
          "base_uri": "https://localhost:8080/"
        },
        "outputId": "0302b432-5b4f-4fc6-b710-da153238f0bc"
      },
      "execution_count": 42,
      "outputs": [
        {
          "output_type": "stream",
          "name": "stdout",
          "text": [
            "A is  ['cocoa', 1, 2]\n",
            "B is  ['cocoa', 1, 2]\n"
          ]
        }
      ]
    },
    {
      "cell_type": "code",
      "source": [
        "A[0]=\"manjul\"\n",
        "print(\"A is \",A)\n",
        "print(\"B is \",B)"
      ],
      "metadata": {
        "id": "3v5m2NLMDMKR",
        "colab": {
          "base_uri": "https://localhost:8080/"
        },
        "outputId": "f837df92-fe67-45e2-d5bb-56347cffe2d7"
      },
      "execution_count": 43,
      "outputs": [
        {
          "output_type": "stream",
          "name": "stdout",
          "text": [
            "A is  ['manjul', 1, 2]\n",
            "B is  ['manjul', 1, 2]\n"
          ]
        }
      ]
    },
    {
      "cell_type": "markdown",
      "source": [
        "This will change the list which is refered to by A which means B is changed as well"
      ],
      "metadata": {
        "id": "9COaFNJkDQCO"
      }
    },
    {
      "cell_type": "markdown",
      "source": [
        "MAKING A CLONE"
      ],
      "metadata": {
        "id": "-49LPtJsDeFz"
      }
    },
    {
      "cell_type": "code",
      "source": [
        "C=A[:]\t\t#This creates a copy of the list and hence C now refers to a different list\n",
        "\n",
        "print(\"A is \",A)\n",
        "print(\"C is \",C)\n"
      ],
      "metadata": {
        "id": "NOw8lK9sDa_z",
        "colab": {
          "base_uri": "https://localhost:8080/"
        },
        "outputId": "90580259-a293-47b9-eb00-ffd4887a546c"
      },
      "execution_count": 44,
      "outputs": [
        {
          "output_type": "stream",
          "name": "stdout",
          "text": [
            "A is  ['manjul', 1, 2]\n",
            "C is  ['manjul', 1, 2]\n"
          ]
        }
      ]
    },
    {
      "cell_type": "code",
      "source": [
        "A[0]=\"cocoa\"\t#this will not change the list referred by C\n",
        "print(\"A is \",A)\n",
        "print(\"C is \",C)"
      ],
      "metadata": {
        "id": "T6NjgqatD_pg",
        "colab": {
          "base_uri": "https://localhost:8080/"
        },
        "outputId": "8abfa8ac-7352-410c-e9ed-940203a1d672"
      },
      "execution_count": 45,
      "outputs": [
        {
          "output_type": "stream",
          "name": "stdout",
          "text": [
            "A is  ['cocoa', 1, 2]\n",
            "C is  ['manjul', 1, 2]\n"
          ]
        }
      ]
    },
    {
      "cell_type": "code",
      "source": [
        "#We could even do it this way\n",
        "D=A.copy()\n",
        "print(D)"
      ],
      "metadata": {
        "id": "Yi28fnF6D_jp",
        "colab": {
          "base_uri": "https://localhost:8080/"
        },
        "outputId": "57bf375d-50ef-4081-dd6b-1570a99dab96"
      },
      "execution_count": 46,
      "outputs": [
        {
          "output_type": "stream",
          "name": "stdout",
          "text": [
            "['cocoa', 1, 2]\n"
          ]
        }
      ]
    },
    {
      "cell_type": "markdown",
      "source": [
        "LIST COMPREHENSION"
      ],
      "metadata": {
        "id": "z9OnNbOYD0AQ"
      }
    },
    {
      "cell_type": "code",
      "source": [
        "\n",
        "listy=[2**x for x in range(0,10)]\n",
        "print(listy)\n",
        "\n",
        "listy=[2**x for x in range(0,10) if x<5]\t#if statement here is called a filter\n",
        "print(listy)\n",
        "\n"
      ],
      "metadata": {
        "id": "S9q1DyJu-cxb",
        "colab": {
          "base_uri": "https://localhost:8080/"
        },
        "outputId": "c91e864e-8af9-4c04-c1f9-3cf9b6f078f8"
      },
      "execution_count": 47,
      "outputs": [
        {
          "output_type": "stream",
          "name": "stdout",
          "text": [
            "[1, 2, 4, 8, 16, 32, 64, 128, 256, 512]\n",
            "[1, 2, 4, 8, 16]\n"
          ]
        }
      ]
    },
    {
      "cell_type": "markdown",
      "source": [
        "<h2> Strings </h2>"
      ],
      "metadata": {
        "id": "1rTsdIStEOvA"
      }
    },
    {
      "cell_type": "code",
      "source": [
        "my_string=\"hello!\"\n",
        "mystr='''dfgdfg\\\n",
        "dgdgdgdg'''\t\t#multi line strings are defined using triple inverted commas\n",
        "\n",
        "print(my_string)\n",
        "print(mystr)\n"
      ],
      "metadata": {
        "id": "waUGsvoxE5-3",
        "colab": {
          "base_uri": "https://localhost:8080/"
        },
        "outputId": "665d033a-02ff-4065-c6ce-78313bc05494"
      },
      "execution_count": 48,
      "outputs": [
        {
          "output_type": "stream",
          "name": "stdout",
          "text": [
            "hello!\n",
            "dfgdfgdgdgdgdg\n"
          ]
        }
      ]
    },
    {
      "cell_type": "markdown",
      "source": [
        "More slicing examples: Guess what each of them would give before printing..."
      ],
      "metadata": {
        "id": "3kEaTd6nGLku"
      }
    },
    {
      "cell_type": "code",
      "source": [
        "string=\"abcdefgh\"\n",
        "\n",
        "print(\"string[2:6:2]\",string[2:6:2])\n",
        "\n",
        "print(\"string[-1::-1]\",string[-1::-1])\n",
        "\n",
        "print(\"string[-1::]\",string[-1::])\n",
        "\n",
        "print(\"string[::]\",string[::])\n",
        "\n",
        "print(\"string[::-1]\",string[::-1])\n"
      ],
      "metadata": {
        "id": "P7C3Z8SvFhYN",
        "colab": {
          "base_uri": "https://localhost:8080/"
        },
        "outputId": "81ee76b0-c533-4a4e-ca3e-476174db2839"
      },
      "execution_count": 49,
      "outputs": [
        {
          "output_type": "stream",
          "name": "stdout",
          "text": [
            "string[2:6:2] ce\n",
            "string[-1::-1] hgfedcba\n",
            "string[-1::] h\n",
            "string[::] abcdefgh\n",
            "string[::-1] hgfedcba\n"
          ]
        }
      ]
    },
    {
      "cell_type": "markdown",
      "source": [
        "slicing is very much similar to that of lists\n",
        "\n",
        "strings are IMMUTABLE i.e. they cannot be changed and only entire deletion is possible"
      ],
      "metadata": {
        "id": "aqhfW0WaFHQj"
      }
    },
    {
      "cell_type": "markdown",
      "source": [
        "<h2> Tuples </h2>"
      ],
      "metadata": {
        "id": "_ex1rEwgGawe"
      }
    },
    {
      "cell_type": "code",
      "source": [
        "#creating tuples\n",
        "my_tuple=\"hello\",1,2\n",
        "print(my_tuple)\n",
        "my_tuple=(\"hello\",1,3)\n",
        "print(my_tuple)\n"
      ],
      "metadata": {
        "id": "9EK91R6jGnWs",
        "colab": {
          "base_uri": "https://localhost:8080/"
        },
        "outputId": "71f6f917-6ac4-4e43-ee44-72e7c38c67a4"
      },
      "execution_count": 50,
      "outputs": [
        {
          "output_type": "stream",
          "name": "stdout",
          "text": [
            "('hello', 1, 2)\n",
            "('hello', 1, 3)\n"
          ]
        }
      ]
    },
    {
      "cell_type": "markdown",
      "source": [
        "indexing and slicing are same as that of lists\n",
        "\n",
        "\n",
        "TUPLES ARE IMMUTABLE"
      ],
      "metadata": {
        "id": "nTaaBVO3GttQ"
      }
    },
    {
      "cell_type": "markdown",
      "source": [
        "<h2> Sets </h2>\n",
        "DEFINITION:an unordered collection of items which are unique(no duplicates) and immutable.\n"
      ],
      "metadata": {
        "id": "_z8X6bmVG0Dp"
      }
    },
    {
      "cell_type": "code",
      "source": [
        "#sets cannot have lists,sets or dictionaries as its elements\n",
        "#Creating sets\n",
        "my_set={1,'a','hola',(2,3,4),1}\n",
        "\n",
        "print(my_set)\n"
      ],
      "metadata": {
        "id": "pU8wxeBdGy2C",
        "colab": {
          "base_uri": "https://localhost:8080/"
        },
        "outputId": "4cb02dbc-d12b-4879-fe9d-d97464fd1695"
      },
      "execution_count": 51,
      "outputs": [
        {
          "output_type": "stream",
          "name": "stdout",
          "text": [
            "{1, 'a', 'hola', (2, 3, 4)}\n"
          ]
        }
      ]
    },
    {
      "cell_type": "markdown",
      "source": [
        "<h2>Dictionaries</h2>"
      ],
      "metadata": {
        "id": "zlHae6oeHT-O"
      }
    },
    {
      "cell_type": "markdown",
      "source": [
        "DEFINITION: Dictionaries are also unordered collection like sets , for each item it has a key and its corresponding value pair.    key:value\n",
        "\n",
        "Values can be any datatypes\n",
        "\n",
        "But KEYS must be IMMUTABLE like numbers or strings or tuples(inside which also only immutable data types are allowed) and further the keys are to be UNIQUE  \n",
        "\n"
      ],
      "metadata": {
        "id": "9-7EhxXQHo6h"
      }
    },
    {
      "cell_type": "code",
      "source": [
        "#creating dictionaries\n",
        "my_dict={1:23,'a':'hello',\"hi\":{1:'a',2:'e'},(1,2):[(1,3),'s']}"
      ],
      "metadata": {
        "id": "mN0EZQvcHZSy"
      },
      "execution_count": 52,
      "outputs": []
    },
    {
      "cell_type": "code",
      "source": [
        "my_dict1 = dict([(1,'apple'), (2,'ball')])\t#converted a list(in proper format) to dictionary"
      ],
      "metadata": {
        "id": "PiOXb3EdIXvH"
      },
      "execution_count": 53,
      "outputs": []
    },
    {
      "cell_type": "markdown",
      "source": [
        "Please feel free to experiment these data structures and their methods. And then you can move to the exercises below."
      ],
      "metadata": {
        "id": "xrMq7SiVHzd3"
      }
    },
    {
      "cell_type": "markdown",
      "source": [
        "<h1> 2. Functions </h1>"
      ],
      "metadata": {
        "id": "NCKbF-k8I_jX"
      }
    },
    {
      "cell_type": "markdown",
      "metadata": {
        "id": "qe9H4zT1b5fN"
      },
      "source": [
        "**Exercise #1 :** Fibonacci sequence\n",
        "\n",
        "A Fibonacci sequence is the integer sequence of 0, 1, 1, 2, 3, 5, 8. The first two terms are 0 and 1. All other terms are obtained by adding the preceding two terms.This means to say the nth term is the sum of (n-1)th and (n-2)th term.\n",
        "\n",
        "**Your Task**: Implement the functions `recur_fibo`"
      ]
    },
    {
      "cell_type": "code",
      "metadata": {
        "id": "zP9ueOPUb2Yz",
        "colab": {
          "base_uri": "https://localhost:8080/"
        },
        "outputId": "7bc31603-40cf-4630-842a-c4f28f41cbea"
      },
      "source": [
        "def recur_fibo(n):\n",
        "\n",
        "  #Implement the recursive call escape statement\n",
        "  ## YOUR CODE STARTS HERE\n",
        "  if n == 0:\n",
        "    return 0\n",
        "  if n == 1:\n",
        "    return 1\n",
        "  else:\n",
        "    return  recur_fibo(n-1) + recur_fibo(n-2)\n",
        "  ## YOUR CODE ENDS HERE\n",
        "  return None\n",
        "\n",
        "nterms = 10 # display the Fibonacci sequence up to n-th term\n",
        "\n",
        "# check if the number of terms is valid\n",
        "for i in range(1,nterms+1):\n",
        "  print(f'{i}th term is {recur_fibo(i)}')"
      ],
      "execution_count": 54,
      "outputs": [
        {
          "output_type": "stream",
          "name": "stdout",
          "text": [
            "1th term is 1\n",
            "2th term is 1\n",
            "3th term is 2\n",
            "4th term is 3\n",
            "5th term is 5\n",
            "6th term is 8\n",
            "7th term is 13\n",
            "8th term is 21\n",
            "9th term is 34\n",
            "10th term is 55\n"
          ]
        }
      ]
    },
    {
      "cell_type": "markdown",
      "metadata": {
        "id": "knaJKaldfhMC"
      },
      "source": [
        "**Exercise #2:** Lambda function\n",
        "\n",
        "A lambda function is a small anonymous function that can take any number of arguments, but can only have one expression.\n",
        "\n",
        "**Your Task**: Implement Lambda function for `sigmoid_lambda` and `relu_lambda` whose definition is given below:\n",
        "\n",
        "$$sigmoid(x)=\\frac{1}{1+e^x}$$\n",
        "$$ReLU(x)=x^+ = max{(0,x)}$$"
      ]
    },
    {
      "cell_type": "code",
      "metadata": {
        "id": "WaHJERI5fvrh"
      },
      "source": [
        "def sigmoid(x):\n",
        "  sigmoid = 1 / (1 + np.exp(-x))\n",
        "  return sigmoid\n",
        "\n",
        "## Implement the above sigmoid function using python lambda functions\n",
        "## YOUR CODE STARTS HERE\n",
        "sigmoid_lambda = lambda x: 1 / ( 1 + np.exp(-x) )\n",
        "## YOUR CODE ENDS HERE\n",
        "\n",
        "assert sigmoid(10)==sigmoid_lambda(10)"
      ],
      "execution_count": 55,
      "outputs": []
    },
    {
      "cell_type": "code",
      "metadata": {
        "id": "7P5FQQz-hPcI"
      },
      "source": [
        "def relu(x):\n",
        "  relu = x if x>0 else 0\n",
        "  return relu\n",
        "\n",
        "## Implement the above sigmoid function using python lambda functions\n",
        "## YOUR CODE STARTS HERE\n",
        "relu_lambda = lambda x: x * (x > 0)\n",
        "## YOUR CODE ENDS HERE\n",
        "assert relu(10)==relu_lambda(10)"
      ],
      "execution_count": 56,
      "outputs": []
    },
    {
      "cell_type": "markdown",
      "metadata": {
        "id": "KeA4VNsth4tQ"
      },
      "source": [
        "**Exercise #3:** Python map keyword\n",
        "\n",
        "**Your Task**: Using the lambda functions and python's map keyword apply `sigmoid` and `relu` on a list of numbers from -20 to 20.\n",
        "Store the output in a list and print it."
      ]
    },
    {
      "cell_type": "code",
      "metadata": {
        "id": "kN6zQyPch3PT",
        "colab": {
          "base_uri": "https://localhost:8080/",
          "height": 485
        },
        "outputId": "d4a1ac25-0d24-4a39-d73e-502dacab34c1"
      },
      "source": [
        "x_list = [*range(-20,20)]\n",
        "## YOUR CODE STARTS HERE\n",
        "sigmoid_out = list(map(lambda x: sigmoid_lambda(x), x_list))\n",
        "## YOUR CODE ENDS HERE\n",
        "print(sigmoid_out)\n",
        "plt.plot(x_list,sigmoid_out)"
      ],
      "execution_count": 57,
      "outputs": [
        {
          "output_type": "stream",
          "name": "stdout",
          "text": [
            "[2.0611536181902037e-09, 5.602796406145941e-09, 1.522997951276035e-08, 4.1399375473943306e-08, 1.12535162055095e-07, 3.059022269256247e-07, 8.315280276641321e-07, 2.2603242979035746e-06, 6.144174602214718e-06, 1.670142184809518e-05, 4.5397868702434395e-05, 0.00012339457598623172, 0.0003353501304664781, 0.0009110511944006454, 0.0024726231566347743, 0.0066928509242848554, 0.01798620996209156, 0.04742587317756678, 0.11920292202211755, 0.2689414213699951, 0.5, 0.7310585786300049, 0.8807970779778823, 0.9525741268224334, 0.9820137900379085, 0.9933071490757153, 0.9975273768433653, 0.9990889488055994, 0.9996646498695336, 0.9998766054240137, 0.9999546021312976, 0.999983298578152, 0.9999938558253978, 0.999997739675702, 0.9999991684719722, 0.999999694097773, 0.9999998874648379, 0.9999999586006244, 0.9999999847700205, 0.9999999943972036]\n"
          ]
        },
        {
          "output_type": "execute_result",
          "data": {
            "text/plain": [
              "[<matplotlib.lines.Line2D at 0x7be6027adb70>]"
            ]
          },
          "metadata": {},
          "execution_count": 57
        },
        {
          "output_type": "display_data",
          "data": {
            "text/plain": [
              "<Figure size 640x480 with 1 Axes>"
            ],
            "image/png": "[encoded data removed]"
          },
          "metadata": {}
        }
      ]
    },
    {
      "cell_type": "code",
      "metadata": {
        "id": "mDLEqXh2iLMf",
        "colab": {
          "base_uri": "https://localhost:8080/",
          "height": 465
        },
        "outputId": "6d9b92b4-53e7-4df0-966a-d1ff43c858f7"
      },
      "source": [
        "x_list = [*range(-20,20)]\n",
        "## YOUR CODE STARTS HERE\n",
        "relu_out = list(map(lambda x: relu_lambda(x), x_list))\n",
        "## YOUR CODE ENDS HERE\n",
        "print(relu_out)\n",
        "plt.plot(x_list,relu_out)"
      ],
      "execution_count": 58,
      "outputs": [
        {
          "output_type": "stream",
          "name": "stdout",
          "text": [
            "[0, 0, 0, 0, 0, 0, 0, 0, 0, 0, 0, 0, 0, 0, 0, 0, 0, 0, 0, 0, 0, 1, 2, 3, 4, 5, 6, 7, 8, 9, 10, 11, 12, 13, 14, 15, 16, 17, 18, 19]\n"
          ]
        },
        {
          "output_type": "execute_result",
          "data": {
            "text/plain": [
              "[<matplotlib.lines.Line2D at 0x7be602638ac0>]"
            ]
          },
          "metadata": {},
          "execution_count": 58
        },
        {
          "output_type": "display_data",
          "data": {
            "text/plain": [
              "<Figure size 640x480 with 1 Axes>"
            ],
            "image/png": "[encoded data removed]"
          },
          "metadata": {}
        }
      ]
    },
    {
      "cell_type": "markdown",
      "source": [
        "**Exercise #4:** On Data structures\n",
        "\n",
        "**Your Task**: You are given a paragraph as a string. Write a function to return a sorted dictionary with keys as the set of words and the corresponding values as their frequency in the paragraph"
      ],
      "metadata": {
        "id": "-dobg1NJLrUc"
      }
    },
    {
      "cell_type": "code",
      "source": [
        "def count_word_frequency(paragraph):\n",
        "    # Convert the paragraph to lowercase to ensure case-insensitivity\n",
        "    paragraph = paragraph.lower()\n",
        "\n",
        "    # Split the paragraph into words\n",
        "    words = paragraph.split()\n",
        "\n",
        "    # Initialize an empty dictionary to store word frequencies\n",
        "    word_freq = {}\n",
        "\n",
        "    # Write a for loop to update the frequencies of each word\n",
        "    ## YOUR CODE STARTS HERE\n",
        "    for word in words:\n",
        "      if word not in word_freq:\n",
        "        word_freq[word] = 0\n",
        "      word_freq[word] += 1\n",
        "    ## YOUR CODE ENDS HERE\n",
        "\n",
        "    return dict(sorted(word_freq.items(), key=lambda item: item[1], reverse=True))\n"
      ],
      "metadata": {
        "id": "2QqqW13jNUcW"
      },
      "execution_count": 59,
      "outputs": []
    },
    {
      "cell_type": "code",
      "source": [
        "# Test the function\n",
        "paragraph = \"\"\"\n",
        "Language is a fundamental aspect of human communication. It allows us to convey ideas, emotions, and information to one another. From spoken words to written texts, language takes various forms, each with its unique beauty. The evolution of languages has been a fascinating journey, shaped by cultural interactions and historical events.\n",
        "\n",
        "English, one of the most widely spoken languages globally , has a rich history. It originated in England and gradually spread across the world due to colonization and globalization. Today, it serves as a lingua franca for international business, diplomacy, and academia. Its flexibility and adaptability have contributed to its widespread adoption.\n",
        "\n",
        "Languages are not just a means of communication; they also shape the way we think and perceive the world. Linguists study the intricate structures and grammar of languages to understand how they influence cognition. Each language reflects the culture and values of its speakers, carrying the weight of their history.\n",
        "\n",
        "As technology advances , language continues to evolve. New words and phrases emerge, reflecting modern trends and innovations. The internet , with its global reach, has played a significant role in disseminating languages and creating new digital communication styles.\n",
        "\n",
        "Preserving endangered languages is an essential endeavor to maintain cultural diversity. Many languages are at risk of disappearing as fewer speakers pass them on to the next generation. Efforts are being made to document and revitalize endangered languages, recognizing their significance in preserving unique cultural heritage.\n",
        "\n",
        "In conclusion , language is a powerful tool that shapes human interactions and defines cultures. It is a bridge that connects people across the world, fostering understanding and empathy. As we cherish and celebrate linguistic diversity, we embrace the richness of humanity's collective heritage.\n",
        "\"\"\"\n"
      ],
      "metadata": {
        "id": "lOeT7YZNPgci"
      },
      "execution_count": 60,
      "outputs": []
    },
    {
      "cell_type": "code",
      "source": [
        "result = count_word_frequency(paragraph)\n",
        "print(result)"
      ],
      "metadata": {
        "id": "fbi1AzwVPnVt",
        "colab": {
          "base_uri": "https://localhost:8080/"
        },
        "outputId": "485031ec-a867-414f-ecef-e6f63528c519"
      },
      "execution_count": 61,
      "outputs": [
        {
          "output_type": "stream",
          "name": "stdout",
          "text": [
            "{'and': 16, 'the': 12, 'to': 10, 'of': 9, 'a': 8, 'languages': 7, 'language': 5, 'its': 5, 'is': 4, 'it': 4, ',': 4, 'in': 4, 'as': 4, 'has': 3, 'cultural': 3, 'are': 3, 'we': 3, 'human': 2, 'one': 2, 'spoken': 2, 'words': 2, 'each': 2, 'with': 2, 'unique': 2, 'interactions': 2, 'history.': 2, 'across': 2, 'they': 2, 'their': 2, 'new': 2, 'preserving': 2, 'endangered': 2, 'heritage.': 2, 'that': 2, 'fundamental': 1, 'aspect': 1, 'communication.': 1, 'allows': 1, 'us': 1, 'convey': 1, 'ideas,': 1, 'emotions,': 1, 'information': 1, 'another.': 1, 'from': 1, 'written': 1, 'texts,': 1, 'takes': 1, 'various': 1, 'forms,': 1, 'beauty.': 1, 'evolution': 1, 'been': 1, 'fascinating': 1, 'journey,': 1, 'shaped': 1, 'by': 1, 'historical': 1, 'events.': 1, 'english,': 1, 'most': 1, 'widely': 1, 'globally': 1, 'rich': 1, 'originated': 1, 'england': 1, 'gradually': 1, 'spread': 1, 'world': 1, 'due': 1, 'colonization': 1, 'globalization.': 1, 'today,': 1, 'serves': 1, 'lingua': 1, 'franca': 1, 'for': 1, 'international': 1, 'business,': 1, 'diplomacy,': 1, 'academia.': 1, 'flexibility': 1, 'adaptability': 1, 'have': 1, 'contributed': 1, 'widespread': 1, 'adoption.': 1, 'not': 1, 'just': 1, 'means': 1, 'communication;': 1, 'also': 1, 'shape': 1, 'way': 1, 'think': 1, 'perceive': 1, 'world.': 1, 'linguists': 1, 'study': 1, 'intricate': 1, 'structures': 1, 'grammar': 1, 'understand': 1, 'how': 1, 'influence': 1, 'cognition.': 1, 'reflects': 1, 'culture': 1, 'values': 1, 'speakers,': 1, 'carrying': 1, 'weight': 1, 'technology': 1, 'advances': 1, 'continues': 1, 'evolve.': 1, 'phrases': 1, 'emerge,': 1, 'reflecting': 1, 'modern': 1, 'trends': 1, 'innovations.': 1, 'internet': 1, 'global': 1, 'reach,': 1, 'played': 1, 'significant': 1, 'role': 1, 'disseminating': 1, 'creating': 1, 'digital': 1, 'communication': 1, 'styles.': 1, 'an': 1, 'essential': 1, 'endeavor': 1, 'maintain': 1, 'diversity.': 1, 'many': 1, 'at': 1, 'risk': 1, 'disappearing': 1, 'fewer': 1, 'speakers': 1, 'pass': 1, 'them': 1, 'on': 1, 'next': 1, 'generation.': 1, 'efforts': 1, 'being': 1, 'made': 1, 'document': 1, 'revitalize': 1, 'languages,': 1, 'recognizing': 1, 'significance': 1, 'conclusion': 1, 'powerful': 1, 'tool': 1, 'shapes': 1, 'defines': 1, 'cultures.': 1, 'bridge': 1, 'connects': 1, 'people': 1, 'world,': 1, 'fostering': 1, 'understanding': 1, 'empathy.': 1, 'cherish': 1, 'celebrate': 1, 'linguistic': 1, 'diversity,': 1, 'embrace': 1, 'richness': 1, \"humanity's\": 1, 'collective': 1}\n"
          ]
        }
      ]
    },
    {
      "cell_type": "markdown",
      "source": [
        "[OPTIONAL Exercise] Do you observe any mistake in the output? Can u point out which part of the provided code is leading to this mistake and possibly correct it."
      ],
      "metadata": {
        "id": "U3zUDcQnR88t"
      }
    },
    {
      "cell_type": "markdown",
      "source": [
        "The problem is the punctuation is also being counted. To improve the count, we should remove all punctuations."
      ],
      "metadata": {
        "id": "v0EUpwI-4-Ic"
      }
    },
    {
      "cell_type": "code",
      "source": [
        "def count_word_frequency(paragraph):\n",
        "    # Convert the paragraph to lowercase to ensure case-insensitivity\n",
        "    paragraph = paragraph.lower()\n",
        "\n",
        "    # Split the paragraph into words\n",
        "    words = paragraph.split()\n",
        "\n",
        "    # Initialize an empty dictionary to store word frequencies\n",
        "    word_freq = {}\n",
        "\n",
        "    # Write a for loop to update the frequencies of each word\n",
        "    ## YOUR CODE STARTS HERE\n",
        "    for word in words:\n",
        "\n",
        "      word = \"\".join(letter for letter in word if letter.isalnum())             # Clean each word first to include only alphanumerals\n",
        "\n",
        "      if word not in word_freq:\n",
        "        word_freq[word] = 0\n",
        "      word_freq[word] += 1\n",
        "    ## YOUR CODE ENDS HERE\n",
        "\n",
        "    return dict(sorted(word_freq.items(), key=lambda item: item[1], reverse=True))"
      ],
      "metadata": {
        "id": "Xty4XaQeRJnO"
      },
      "execution_count": 62,
      "outputs": []
    },
    {
      "cell_type": "code",
      "source": [
        "result = count_word_frequency(paragraph)\n",
        "print(result)"
      ],
      "metadata": {
        "colab": {
          "base_uri": "https://localhost:8080/"
        },
        "id": "tJ1LJAXY6IyW",
        "outputId": "846602d7-47dd-42f7-b198-ddb421c60cc0"
      },
      "execution_count": 63,
      "outputs": [
        {
          "output_type": "stream",
          "name": "stdout",
          "text": [
            "{'and': 16, 'the': 12, 'to': 10, 'of': 9, 'a': 8, 'languages': 8, 'language': 5, 'its': 5, 'is': 4, 'it': 4, '': 4, 'in': 4, 'as': 4, 'communication': 3, 'has': 3, 'cultural': 3, 'world': 3, 'are': 3, 'we': 3, 'human': 2, 'one': 2, 'spoken': 2, 'words': 2, 'each': 2, 'with': 2, 'unique': 2, 'interactions': 2, 'history': 2, 'across': 2, 'they': 2, 'speakers': 2, 'their': 2, 'new': 2, 'preserving': 2, 'endangered': 2, 'diversity': 2, 'heritage': 2, 'that': 2, 'fundamental': 1, 'aspect': 1, 'allows': 1, 'us': 1, 'convey': 1, 'ideas': 1, 'emotions': 1, 'information': 1, 'another': 1, 'from': 1, 'written': 1, 'texts': 1, 'takes': 1, 'various': 1, 'forms': 1, 'beauty': 1, 'evolution': 1, 'been': 1, 'fascinating': 1, 'journey': 1, 'shaped': 1, 'by': 1, 'historical': 1, 'events': 1, 'english': 1, 'most': 1, 'widely': 1, 'globally': 1, 'rich': 1, 'originated': 1, 'england': 1, 'gradually': 1, 'spread': 1, 'due': 1, 'colonization': 1, 'globalization': 1, 'today': 1, 'serves': 1, 'lingua': 1, 'franca': 1, 'for': 1, 'international': 1, 'business': 1, 'diplomacy': 1, 'academia': 1, 'flexibility': 1, 'adaptability': 1, 'have': 1, 'contributed': 1, 'widespread': 1, 'adoption': 1, 'not': 1, 'just': 1, 'means': 1, 'also': 1, 'shape': 1, 'way': 1, 'think': 1, 'perceive': 1, 'linguists': 1, 'study': 1, 'intricate': 1, 'structures': 1, 'grammar': 1, 'understand': 1, 'how': 1, 'influence': 1, 'cognition': 1, 'reflects': 1, 'culture': 1, 'values': 1, 'carrying': 1, 'weight': 1, 'technology': 1, 'advances': 1, 'continues': 1, 'evolve': 1, 'phrases': 1, 'emerge': 1, 'reflecting': 1, 'modern': 1, 'trends': 1, 'innovations': 1, 'internet': 1, 'global': 1, 'reach': 1, 'played': 1, 'significant': 1, 'role': 1, 'disseminating': 1, 'creating': 1, 'digital': 1, 'styles': 1, 'an': 1, 'essential': 1, 'endeavor': 1, 'maintain': 1, 'many': 1, 'at': 1, 'risk': 1, 'disappearing': 1, 'fewer': 1, 'pass': 1, 'them': 1, 'on': 1, 'next': 1, 'generation': 1, 'efforts': 1, 'being': 1, 'made': 1, 'document': 1, 'revitalize': 1, 'recognizing': 1, 'significance': 1, 'conclusion': 1, 'powerful': 1, 'tool': 1, 'shapes': 1, 'defines': 1, 'cultures': 1, 'bridge': 1, 'connects': 1, 'people': 1, 'fostering': 1, 'understanding': 1, 'empathy': 1, 'cherish': 1, 'celebrate': 1, 'linguistic': 1, 'embrace': 1, 'richness': 1, 'humanitys': 1, 'collective': 1}\n"
          ]
        }
      ]
    },
    {
      "cell_type": "code",
      "source": [],
      "metadata": {
        "id": "kG2Hq3nD6LIY"
      },
      "execution_count": null,
      "outputs": []
    }
  ]
}