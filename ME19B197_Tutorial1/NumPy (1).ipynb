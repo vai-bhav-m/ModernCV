{
  "nbformat": 4,
  "nbformat_minor": 0,
  "metadata": {
    "colab": {
      "provenance": [],
      "toc_visible": true
    },
    "kernelspec": {
      "name": "python3",
      "display_name": "Python 3"
    },
    "language_info": {
      "name": "python"
    }
  },
  "cells": [
    {
      "cell_type": "markdown",
      "metadata": {
        "id": "view-in-github"
      },
      "source": [
        "<a href=\"https://colab.research.google.com/github/Rohith-Rongali/EE5179-2023/blob/main/Tutorials/Tutorial-1/NumPy.ipynb\" target=\"_parent\"><img src=\"https://colab.research.google.com/assets/colab-badge.svg\" alt=\"Open In Colab\"/></a>"
      ]
    },
    {
      "cell_type": "code",
      "metadata": {
        "id": "alrXoCflGKM8",
        "colab": {
          "base_uri": "https://localhost:8080/"
        },
        "outputId": "89508f1d-dcbf-45a6-f554-88d0bdc92f83"
      },
      "source": [
        "import numpy as np\n",
        "print(np.__version__)\n",
        "import matplotlib.pylab as plt"
      ],
      "execution_count": 1,
      "outputs": [
        {
          "output_type": "stream",
          "name": "stdout",
          "text": [
            "1.25.2\n"
          ]
        }
      ]
    },
    {
      "cell_type": "markdown",
      "metadata": {
        "id": "C6DUK8dwjExh"
      },
      "source": [
        "# Numpy Basics:\n"
      ]
    },
    {
      "cell_type": "markdown",
      "metadata": {
        "id": "9x-UquUqkMWs"
      },
      "source": [
        "**Exercise #1:** Creating a numpy array with particular value\n",
        "\n",
        "**Your Task** Create a numpy array with size 2*3 with all elements as 5."
      ]
    },
    {
      "cell_type": "code",
      "metadata": {
        "id": "jyhhYUA4kpqj",
        "colab": {
          "base_uri": "https://localhost:8080/"
        },
        "outputId": "666d9c1e-c337-4d12-ec68-389457560aef"
      },
      "source": [
        "# YOUR CODE STARTS HERE\n",
        "arr = 5 * np.ones((2,3))\n",
        "# YOUR CODE ENDS HERE\n",
        "print(arr)"
      ],
      "execution_count": 2,
      "outputs": [
        {
          "output_type": "stream",
          "name": "stdout",
          "text": [
            "[[5. 5. 5.]\n",
            " [5. 5. 5.]]\n"
          ]
        }
      ]
    },
    {
      "cell_type": "markdown",
      "metadata": {
        "id": "5NaczYqflEd5"
      },
      "source": [
        "**Exercise #2:** Creating a numpy array with *random* value\n",
        "\n",
        "**Your Task** Create a numpy array with size 2*3 with all random values"
      ]
    },
    {
      "cell_type": "code",
      "metadata": {
        "id": "9H2HQNC9lL-0",
        "colab": {
          "base_uri": "https://localhost:8080/"
        },
        "outputId": "ffff14e9-17fd-4471-f6ab-6ca829d4cb47"
      },
      "source": [
        "# YOUR CODE STARTS HERE\n",
        "rand_arr = np.random.rand(2,3)\n",
        "# YOUR CODE ENDS HERE\n",
        "print(rand_arr)"
      ],
      "execution_count": 5,
      "outputs": [
        {
          "output_type": "stream",
          "name": "stdout",
          "text": [
            "[[0.96768788 0.92889554 0.11840169]\n",
            " [0.98399597 0.99734934 0.92529824]]\n"
          ]
        }
      ]
    },
    {
      "cell_type": "markdown",
      "metadata": {
        "id": "uT4LJPBFldNc"
      },
      "source": [
        "**Exercise #3:** Basic NumPy operatrions\n",
        "\n",
        "**Your Task** For the random array `arr`defined above, find the `sum` of all the elements, `mean`, `maximum` and `minimum` value"
      ]
    },
    {
      "cell_type": "code",
      "metadata": {
        "id": "UDrDaAK4l5gq",
        "colab": {
          "base_uri": "https://localhost:8080/"
        },
        "outputId": "6d02df3c-64b8-45aa-bd99-904627d13009"
      },
      "source": [
        "#YOUR CODE STARTS HERE\n",
        "arr_sum = np.sum(arr)\n",
        "arr_mean = np.mean(arr)\n",
        "arr_max = np.max(arr)\n",
        "arr_min = np.min(arr)\n",
        "#YOUR CODE ENDS HERE\n",
        "\n",
        "print(f'sum: {arr_sum}\\nmean: {arr_mean}\\nmax: {arr_max}\\nmin:{arr_min}')"
      ],
      "execution_count": 6,
      "outputs": [
        {
          "output_type": "stream",
          "name": "stdout",
          "text": [
            "sum: 30.0\n",
            "mean: 5.0\n",
            "max: 5.0\n",
            "min:5.0\n"
          ]
        }
      ]
    },
    {
      "cell_type": "markdown",
      "metadata": {
        "id": "JzoFSwHjl3dW"
      },
      "source": [
        "**Exercise #4:** `argmin` and `argmax`\n",
        "\n",
        "**Your Task** For the random array `arr`defined below:\n",
        "\n",
        "*   Find the position of maximum and minimum value of above array\n",
        "*   Find the indices of maximum and minimum value along each of its columns.\n",
        "*   Find the indices of maximum and minimum value along each of the its rows.\n",
        "\n"
      ]
    },
    {
      "cell_type": "code",
      "metadata": {
        "id": "VBawwx5KmpZR",
        "colab": {
          "base_uri": "https://localhost:8080/"
        },
        "outputId": "0bb25e03-4eb1-49eb-b735-b56f96c26e1b"
      },
      "source": [
        "# Define an array\n",
        "arr = np.array([[5,12,51,25] ,[25,29,2,27]])\n",
        "print(f'Array:\\n{arr}\\n')\n",
        "# YOUR CODE STARTS HERE\n",
        "#Find the position of maximum and minimum value of above array\n",
        "print(\"Max position:\", np.argmax(arr), \"    Min position:\", np.argmin(arr))\n",
        "#Find the indices of maximum and minimum value along each of its columns.\n",
        "print(\"Max along each column:\", np.argmax(arr, axis=0))\n",
        "print(\"Min along each column:\", np.argmin(arr, axis=0))\n",
        "#Find the indices of maximum and minimum value along each of the its rows.\n",
        "print(\"Max along each row:\", np.argmax(arr, axis=1))\n",
        "print(\"Min along each row:\", np.argmin(arr, axis=1))\n",
        "#YOUR CODE ENDS HERE"
      ],
      "execution_count": 10,
      "outputs": [
        {
          "output_type": "stream",
          "name": "stdout",
          "text": [
            "Array:\n",
            "[[ 5 12 51 25]\n",
            " [25 29  2 27]]\n",
            "\n",
            "Max position: 2     Min position: 6\n",
            "Max along each column: [1 1 0 1]\n",
            "Min along each column: [0 0 1 0]\n",
            "Max along each row: [2 1]\n",
            "Min along each row: [0 2]\n"
          ]
        }
      ]
    },
    {
      "cell_type": "markdown",
      "source": [
        "Numpy Arrays vs. Python Lists?\n",
        "\n",
        "    Why the need for numpy arrays? Can't we just use Python lists?\n",
        "    Iterating over numpy arrays is slow. Slicing is faster\n",
        "\n",
        "Python lists may contain items of different types. This flexibility comes at a price: Python lists store pointers to memory locations. On the other hand, numpy arrays are typed, where the default type is floating point. Because of this, the system knows how much memory to allocate, and if you ask for an array of size 100, it will allocate one hundred contiguous spots in memory, where the size of each spot is based on the type. This makes access extremely fast.\n",
        "\n",
        "\n",
        "If you want to know more, we will suggest that you read this from [Jake Vanderplas's Data Science Handbook](https://jakevdp.github.io/PythonDataScienceHandbook/). You will find that book an incredible resource for learning numpy, pandas and plotting. All the lessons are available as colab notebooks so that u can try out the commands on your own."
      ],
      "metadata": {
        "id": "c6EJuS1SbEuX"
      }
    }
  ]
}